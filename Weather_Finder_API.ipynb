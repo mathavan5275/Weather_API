{
  "nbformat": 4,
  "nbformat_minor": 0,
  "metadata": {
    "colab": {
      "provenance": [],
      "authorship_tag": "ABX9TyPUr4X01KqFbh7hGbhsWug1",
      "include_colab_link": true
    },
    "kernelspec": {
      "name": "python3",
      "display_name": "Python 3"
    },
    "language_info": {
      "name": "python"
    }
  },
  "cells": [
    {
      "cell_type": "markdown",
      "metadata": {
        "id": "view-in-github",
        "colab_type": "text"
      },
      "source": [
        "<a href=\"https://colab.research.google.com/github/mathavan5275/Weather_API/blob/main/Weather_Finder_API.ipynb\" target=\"_parent\"><img src=\"https://colab.research.google.com/assets/colab-badge.svg\" alt=\"Open In Colab\"/></a>"
      ]
    },
    {
      "cell_type": "code",
      "execution_count": 2,
      "metadata": {
        "colab": {
          "base_uri": "https://localhost:8080/"
        },
        "id": "47gNwJOo0OlM",
        "outputId": "f2f64627-44ee-4cce-88d2-eb863ca81017"
      },
      "outputs": [
        {
          "output_type": "stream",
          "name": "stdout",
          "text": [
            "Enter city: Tenkasi\n",
            "The weather in Tenkasi is: Clouds\n",
            "The temperature in Tenkasi is: 84ºF\n",
            "Wind Speed in Tenkasi is: 6.76 m/s\n",
            "Cloud Coverage in Tenkasi is: 97%\n"
          ]
        }
      ],
      "source": [
        "import requests\n",
        "\n",
        "api_key = '46ec1543609e54f65d51d706e6dacff7'\n",
        "\n",
        "user_input = input(\"Enter city: \")\n",
        "\n",
        "weather_data = requests.get(\n",
        "    f\"https://api.openweathermap.org/data/2.5/weather?q={user_input}&units=imperial&APPID={api_key}\")\n",
        "\n",
        "\n",
        "if weather_data.json()['cod'] == '404':\n",
        "    print(\"No City Found\")\n",
        "else:\n",
        "    weather = weather_data.json()['weather'][0]['main']\n",
        "    temp = round(weather_data.json()['main']['temp'])\n",
        "    wind_speed = weather_data.json()['wind']['speed']\n",
        "    cloud_coverage = weather_data.json()['clouds']['all']\n",
        "\n",
        "    print(f\"The weather in {user_input} is: {weather}\")\n",
        "    print(f\"The temperature in {user_input} is: {temp}ºF\")\n",
        "    print(f'Wind Speed in {user_input} is: {wind_speed} m/s')\n",
        "    print(f'Cloud Coverage in {user_input} is: {cloud_coverage}%')"
      ]
    }
  ]
}